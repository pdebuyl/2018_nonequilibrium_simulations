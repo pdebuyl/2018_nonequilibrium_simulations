{
 "cells": [
  {
   "cell_type": "markdown",
   "metadata": {},
   "source": [
    "## Active Brownian Particles\n",
    "\n",
    "\n",
    "Pierre de Buyl  \n",
    "Instituut voor Theoretische Fysica, KU Leuven\n",
    "\n",
    "The code and notebooks in the repository `2018_nonequilibrium_simulations`\n",
    "constitute supplementary material for the lecture notes\n",
    "*Langevin simulations for nonequilibrium physics*.\n",
    "See the [README.md](README.md) file for more information.\n",
    "See the lecture notes (link posted soon, visit [my website](http://pdebuyl.be/)\n",
    "for updates.\n",
    "\n",
    "This notebook contains the example of Active Brownian Particles"
   ]
  },
  {
   "cell_type": "code",
   "execution_count": null,
   "metadata": {},
   "outputs": [],
   "source": [
    "# import libraries and set default figure parameters\n",
    "import numpy as np\n",
    "%matplotlib inline\n",
    "import matplotlib.pyplot as plt\n",
    "import algorithms\n",
    "import tidynamics\n",
    "\n",
    "plt.rcParams['figure.figsize'] = (12, 8)\n",
    "plt.rcParams['figure.subplot.top'] = 0.95\n",
    "plt.rcParams['figure.subplot.right'] = 0.95\n",
    "\n",
    "plt.rcParams['font.size'] = 16"
   ]
  },
  {
   "cell_type": "code",
   "execution_count": null,
   "metadata": {},
   "outputs": [],
   "source": [
    "%load_ext cython"
   ]
  },
  {
   "cell_type": "code",
   "execution_count": null,
   "metadata": {},
   "outputs": [],
   "source": [
    "%%cython\n",
    "\n",
    "cimport algorithms\n",
    "from libc.math cimport cos, sin\n",
    "\n",
    "cdef class cy_ABP(algorithms.cyfunc_nd):\n",
    "    cdef double v0\n",
    "    def __init__(self, v0):\n",
    "        self.v0 = v0\n",
    "    cpdef void force(self, double[::1] x, double[::1] f):\n",
    "        cdef int i, n\n",
    "        n = x.shape[0]//3\n",
    "        for i in range(n):\n",
    "            f[3*i] = self.v0*cos(x[3*i+2])\n",
    "            f[3*i+1] = self.v0*sin(x[3*i+2])\n",
    "            f[3*i+2] = 0\n"
   ]
  },
  {
   "cell_type": "code",
   "execution_count": null,
   "metadata": {},
   "outputs": [],
   "source": [
    "\n",
    "mu = np.array([1, 1, 1], dtype=float)\n",
    "T = 1.0\n",
    "dt = 1e-2\n",
    "nsteps = 50\n",
    "npoints = 3000\n",
    "v0 = 1.0\n",
    "\n",
    "all_x = []\n",
    "for i in range(10):\n",
    "    x = np.array([0, 0, 0], dtype=float)\n",
    "    all_x.append(algorithms.integrate_euler(x, mu, T, dt, npoints, nsteps, cy_ABP(v0)))\n",
    "all_x = np.array(all_x)\n"
   ]
  },
  {
   "cell_type": "code",
   "execution_count": null,
   "metadata": {},
   "outputs": [],
   "source": [
    "plt.plot(all_x[0,:,0], all_x[0,:,1])"
   ]
  },
  {
   "cell_type": "code",
   "execution_count": null,
   "metadata": {},
   "outputs": [],
   "source": [
    "all_msd = np.array([])"
   ]
  },
  {
   "cell_type": "code",
   "execution_count": null,
   "metadata": {},
   "outputs": [],
   "source": [
    "tau_r = 0"
   ]
  },
  {
   "cell_type": "code",
   "execution_count": null,
   "metadata": {},
   "outputs": [],
   "source": [
    "m = all_msd.mean(axis=0)[:npoints//2]\n",
    "s = all_msd.std(axis=0)[:npoints//2]\n",
    "time = np.arange(npoints//2)*dt*nsteps\n",
    "plt.fill_between(time, m-s, m+s, alpha=0.5)\n",
    "plt.plot(time, m)\n",
    "\n",
    "plt.plot(time, time)"
   ]
  },
  {
   "cell_type": "code",
   "execution_count": null,
   "metadata": {},
   "outputs": [],
   "source": []
  }
 ],
 "metadata": {
  "kernelspec": {
   "display_name": "Python 3",
   "language": "python",
   "name": "python3"
  },
  "language_info": {
   "codemirror_mode": {
    "name": "ipython",
    "version": 3
   },
   "file_extension": ".py",
   "mimetype": "text/x-python",
   "name": "python",
   "nbconvert_exporter": "python",
   "pygments_lexer": "ipython3",
   "version": "3.6.4"
  }
 },
 "nbformat": 4,
 "nbformat_minor": 2
}
