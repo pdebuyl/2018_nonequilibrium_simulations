{
 "cells": [
  {
   "cell_type": "markdown",
   "metadata": {},
   "source": [
    "## Introduction\n",
    "\n",
    "Pierre de Buyl  \n",
    "Instituut voor Theoretische Fysica, KU Leuven\n",
    "\n",
    "The code and notebooks in the repository `2018_nonequilibrium_simulations`\n",
    "constitute supplementary material for the lecture notes\n",
    "*Langevin simulations for nonequilibrium physics*.\n",
    "See the [README.md](README.md) file for more information.\n",
    "See the lecture notes (link posted soon, visit [my website](http://pdebuyl.be/)\n",
    "for updates.\n",
    "\n",
    "This notebook contains an introduction to Python for scientific computing."
   ]
  },
  {
   "cell_type": "code",
   "execution_count": null,
   "metadata": {},
   "outputs": [],
   "source": [
    "# import the numerical library NumPy and the plotting library matplotlib\n",
    "import numpy as np\n",
    "# the following line is important to activate the graphical library in the notebook environment\n",
    "%matplotlib inline\n",
    "import matplotlib.pyplot as plt"
   ]
  },
  {
   "cell_type": "code",
   "execution_count": null,
   "metadata": {},
   "outputs": [],
   "source": []
  },
  {
   "cell_type": "code",
   "execution_count": null,
   "metadata": {},
   "outputs": [],
   "source": []
  },
  {
   "cell_type": "markdown",
   "metadata": {},
   "source": [
    "### Verifications"
   ]
  },
  {
   "cell_type": "code",
   "execution_count": null,
   "metadata": {},
   "outputs": [],
   "source": [
    "%load_ext cython"
   ]
  },
  {
   "cell_type": "code",
   "execution_count": null,
   "metadata": {},
   "outputs": [],
   "source": [
    "import sys"
   ]
  },
  {
   "cell_type": "code",
   "execution_count": null,
   "metadata": {},
   "outputs": [],
   "source": [
    "!{sys.executable} setup.py build_ext --inplace"
   ]
  },
  {
   "cell_type": "code",
   "execution_count": null,
   "metadata": {},
   "outputs": [],
   "source": [
    "import algorithms"
   ]
  },
  {
   "cell_type": "code",
   "execution_count": null,
   "metadata": {},
   "outputs": [],
   "source": [
    "x = np.array([0, 0, 0], dtype=float)\n",
    "mu = np.array([1/3, 1/3, 1/3], dtype=float)\n",
    "\n",
    "T = 2.0\n",
    "\n",
    "dt = 0.01\n",
    "nsteps = 50\n",
    "\n",
    "x_data = algorithms.integrate_euler(x, mu, T, dt, 10000, nsteps)"
   ]
  },
  {
   "cell_type": "code",
   "execution_count": null,
   "metadata": {},
   "outputs": [],
   "source": [
    "x_data.shape"
   ]
  },
  {
   "cell_type": "code",
   "execution_count": null,
   "metadata": {},
   "outputs": [],
   "source": [
    "import tidynamics"
   ]
  },
  {
   "cell_type": "code",
   "execution_count": null,
   "metadata": {},
   "outputs": [],
   "source": [
    "time = np.arange(x_data.shape[0])*nsteps*dt\n",
    "plt.plot(time, tidynamics.msd(x_data))\n",
    "plt.plot(time, 2*mu[0]*T*3*time)"
   ]
  },
  {
   "cell_type": "code",
   "execution_count": null,
   "metadata": {},
   "outputs": [],
   "source": [
    "%%cython\n",
    "\n",
    "cimport algorithms\n",
    "\n",
    "cdef class myforce(algorithms.cyfunc_nd):\n",
    "    cdef double x0, y0\n",
    "    def __init__(self, x0, y0):\n",
    "        self.x0 = x0\n",
    "        self.y0 = y0\n",
    "    cpdef void force(self, double[::1] x, double[::1] f):\n",
    "        f[0] = - (x[0] - self.x0)\n",
    "        f[1] = - (x[1] - self.y0)"
   ]
  },
  {
   "cell_type": "code",
   "execution_count": null,
   "metadata": {},
   "outputs": [],
   "source": [
    "x = np.array([0, 0], dtype=float)\n",
    "mu = np.array([1/3, 1/3], dtype=float)\n",
    "\n",
    "T = 2.0\n",
    "\n",
    "dt = 0.01\n",
    "nsteps = 50\n",
    "\n",
    "x_data = algorithms.integrate_euler(x, mu, T, dt, 1000, nsteps, myforce(5, 15))"
   ]
  },
  {
   "cell_type": "code",
   "execution_count": null,
   "metadata": {},
   "outputs": [],
   "source": [
    "plt.hist2d(x_data[:,0], x_data[:,1]);"
   ]
  },
  {
   "cell_type": "code",
   "execution_count": null,
   "metadata": {},
   "outputs": [],
   "source": [
    "# Variables\n",
    "\n",
    "a = 1\n",
    "print(a, type(a))\n",
    "a = '1'\n",
    "print(a, type(a))\n",
    "a = 1.0\n",
    "print(a, type(a))\n"
   ]
  },
  {
   "cell_type": "code",
   "execution_count": null,
   "metadata": {},
   "outputs": [],
   "source": [
    "# Loops\n",
    "\n",
    "for a in [1, '1', 1.0]:\n",
    "    print(a, type(a))"
   ]
  },
  {
   "cell_type": "code",
   "execution_count": null,
   "metadata": {},
   "outputs": [],
   "source": [
    "# Functions\n",
    "\n",
    "def my_function(x, y):\n",
    "    return x+y\n",
    "\n",
    "print(my_function(1, 1))\n",
    "print(my_function('one ', 'two'))\n",
    "print(my_function(1.0, 2.0))\n",
    "print(my_function(1.0, 'two'))"
   ]
  },
  {
   "cell_type": "markdown",
   "metadata": {},
   "source": [
    "### Math with arrays\n",
    "\n",
    "- An array is a \"container\" for numerical values.\n",
    "- NumPy performs operations on arrays element-wise.\n",
    "- a = 2*x multiplies every element by two.\n",
    "\n"
   ]
  },
  {
   "cell_type": "code",
   "execution_count": null,
   "metadata": {},
   "outputs": [],
   "source": [
    "a = np.ones(5)\n",
    "print(a)\n",
    "a[0] = 10\n",
    "print(a)\n",
    "print(2*a)\n",
    "print(np.sin(a))"
   ]
  },
  {
   "cell_type": "code",
   "execution_count": null,
   "metadata": {},
   "outputs": [],
   "source": [
    "print(a.dtype)\n",
    "print(a.ndim)\n",
    "print(a.shape)\n",
    "print(a.nbytes)\n",
    "print(a.flags)\n",
    "print(a.data)"
   ]
  },
  {
   "cell_type": "code",
   "execution_count": null,
   "metadata": {},
   "outputs": [],
   "source": []
  }
 ],
 "metadata": {
  "kernelspec": {
   "display_name": "Python 3",
   "language": "python",
   "name": "python3"
  },
  "language_info": {
   "codemirror_mode": {
    "name": "ipython",
    "version": 3
   },
   "file_extension": ".py",
   "mimetype": "text/x-python",
   "name": "python",
   "nbconvert_exporter": "python",
   "pygments_lexer": "ipython3",
   "version": "3.6.4"
  }
 },
 "nbformat": 4,
 "nbformat_minor": 2
}
