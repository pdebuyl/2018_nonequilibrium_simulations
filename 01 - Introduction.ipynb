{
 "cells": [
  {
   "cell_type": "markdown",
   "metadata": {},
   "source": [
    "## Introduction\n",
    "\n",
    "Pierre de Buyl  \n",
    "Instituut voor Theoretische Fysica, KU Leuven\n",
    "\n",
    "The code and notebooks in the repository `2018_nonequilibrium_simulations`\n",
    "constitute supplementary material for the lecture notes\n",
    "*Langevin simulations for nonequilibrium physics*.\n",
    "See the [README.md](README.md) file for more information.\n",
    "See the lecture notes (link posted soon, visit [my website](http://pdebuyl.be/)\n",
    "for updates.\n",
    "\n",
    "This notebook contains an introduction to Python for scientific computing."
   ]
  },
  {
   "cell_type": "code",
   "execution_count": null,
   "metadata": {},
   "outputs": [],
   "source": [
    "# import the numerical library NumPy and the plotting library matplotlib\n",
    "import numpy as np\n",
    "# the following line is important to activate the graphical library in the notebook environment\n",
    "%matplotlib inline\n",
    "import matplotlib.pyplot as plt\n",
    "# for one example, we will use the library \"tidynamics\"\n",
    "import tidynamics"
   ]
  },
  {
   "cell_type": "markdown",
   "metadata": {},
   "source": [
    "### Basic Python\n",
    "\n",
    "- Interpreted *and* typed language.\n",
    "- Suitable for procedural, functional and object oriented programming.\n",
    "- Open source implementation.\n",
    "- \"General\" programming language: useful for science,\n",
    "  web/GUI/database programming, games, hardware interfacing, whatever you can think of.\n",
    "\n",
    "References:\n",
    "- The official website https://www.python.org\n",
    "- Scientific Python references:\n",
    "  - https://docs.scipy.org/doc/\n",
    "  - http://www.scipy-lectures.org/\n",
    "  - https://www.euroscipy.org/\n",
    "- Tip: Pythonistas are enthusiastic and will be glad to assist\n",
    "- Other tip: installing can be tricky. See previous tip\n",
    "- PS: https://stackoverflow.com/questions/tagged/numpy :-)"
   ]
  },
  {
   "cell_type": "markdown",
   "metadata": {},
   "source": [
    "### The present notes\n",
    "\n",
    "- This is a \"Jupyter notebook\", see http://jupyter.org/\n",
    "- Cells can be either text (markdown + LaTeX) or code\n",
    "- You can find them online at https://github.com/pdebuyl/2018_nonequilibrium_simulations (just go to my homepage http://pdebuyl.be and follow the github link)\n",
    "- Actual \"lecture notes\" will follow to complement the code\n",
    "- Use `Shift + Enter` to execute a cell"
   ]
  },
  {
   "cell_type": "markdown",
   "metadata": {},
   "source": [
    "### Crash course!"
   ]
  },
  {
   "cell_type": "code",
   "execution_count": null,
   "metadata": {},
   "outputs": [],
   "source": [
    "print(\"Hello, world!\")"
   ]
  },
  {
   "cell_type": "code",
   "execution_count": null,
   "metadata": {},
   "outputs": [],
   "source": [
    "# Variables\n",
    "\n",
    "a = 1\n",
    "print(a, type(a))\n",
    "a = '1'\n",
    "print(a, type(a))\n",
    "a = 1.0\n",
    "print(a, type(a))\n"
   ]
  },
  {
   "cell_type": "code",
   "execution_count": null,
   "metadata": {},
   "outputs": [],
   "source": [
    "# Loops\n",
    "\n",
    "for a in [1, '1', 1.0]:\n",
    "    print(a, type(a))"
   ]
  },
  {
   "cell_type": "code",
   "execution_count": null,
   "metadata": {},
   "outputs": [],
   "source": [
    "# Functions\n",
    "\n",
    "def my_function(x, y):\n",
    "    return x+y\n",
    "\n",
    "print(my_function(1, 1))\n",
    "print(my_function('one ', 'two'))\n",
    "print(my_function(1.0, 2.0))\n",
    "print(my_function(1.0, 'two'))"
   ]
  },
  {
   "cell_type": "markdown",
   "metadata": {},
   "source": [
    "### Mathematics, arrays and programming\n",
    "\n",
    "- Python has a standard library for mathematics, that provides access to the\n",
    "  C math library: [`math`](https://docs.python.org/3/library/math.html)\n",
    "- One of the reasons of Python's popularity in science comes from a standardized\n",
    "  type for *arrays*, NumPy's `np.ndarray`\n",
    "- Also: Python can easily call C or Fortran code, Python is open-source (thus free to install on your computer).\n"
   ]
  },
  {
   "cell_type": "markdown",
   "metadata": {},
   "source": [
    "### Features of NumPy\n",
    "\n",
    "- Array data type\n",
    "- Mathematical functions (basic operations, trigonometric functions, floor, etc)\n",
    "- Linear algebra\n",
    "- Random numbers\n",
    "- Fourier transforms"
   ]
  },
  {
   "cell_type": "markdown",
   "metadata": {},
   "source": [
    "### Math with arrays\n",
    "\n",
    "- An array is a \"container\" for numerical values.\n",
    "- NumPy performs operations on arrays element-wise.\n",
    "- a = 2*x multiplies every element by two.\n",
    "\n"
   ]
  },
  {
   "cell_type": "code",
   "execution_count": null,
   "metadata": {},
   "outputs": [],
   "source": [
    "a = np.ones(5)\n",
    "print(a)\n",
    "a[0] = 10\n",
    "print(a)\n",
    "print(2*a)\n",
    "print(np.sin(a))"
   ]
  },
  {
   "cell_type": "markdown",
   "metadata": {},
   "source": [
    "### What's in an array?"
   ]
  },
  {
   "cell_type": "code",
   "execution_count": null,
   "metadata": {},
   "outputs": [],
   "source": [
    "print(a.dtype)\n",
    "print(a.ndim)\n",
    "print(a.shape)\n",
    "print(a.nbytes)\n",
    "print(a.flags)\n",
    "print(a.data)"
   ]
  },
  {
   "cell_type": "markdown",
   "metadata": {},
   "source": [
    "### Array indexing\n",
    "\n",
    "- `a[i:j]` skips the i first elements and goes up to j-1\n",
    "- `b[k,l]` returns the element from the (k-1)-th row, (l-1)-th column\n",
    "- `b[:,0]` returns the first column and `b[0,:]` the first row"
   ]
  },
  {
   "cell_type": "markdown",
   "metadata": {},
   "source": [
    "## Array multiplication\n",
    "\n",
    "- NumPy provides basic linear algebra routines\n",
    "- Array multiplication supports the `@` operator"
   ]
  },
  {
   "cell_type": "code",
   "execution_count": null,
   "metadata": {},
   "outputs": [],
   "source": [
    "# A 2D rotation by 90° counterclockwise\n",
    "rotation_matrix = np.array([[0, -1], [1, 0]])\n",
    "unit_x = np.array([1, 0])\n",
    "print(rotation_matrix @ unit_x)"
   ]
  },
  {
   "cell_type": "markdown",
   "metadata": {},
   "source": [
    "### Summing along an axis\n",
    "\n",
    "Other operations: mean, std, min, max."
   ]
  },
  {
   "cell_type": "code",
   "execution_count": null,
   "metadata": {},
   "outputs": [],
   "source": [
    "b = np.arange(20).reshape((4, 5)) # Change the shape\n",
    "print(b)\n",
    "print(\"Sum a column\", b.sum(axis=0))\n",
    "print(\"Sum a row   \", b.sum(axis=1))"
   ]
  },
  {
   "cell_type": "markdown",
   "metadata": {},
   "source": [
    "## What about the correlations?\n",
    "\n",
    "A definining feature of the noise $\\xi$ is its autocorrelation:\n",
    "\n",
    "$$\\langle \\xi(t_1) \\xi(t_2) \\rangle = 2 T \\gamma \\delta(t_1-t_2)$$\n",
    "\n",
    "**Exercise:** Compute the autocorrelation of the noise.\n",
    "\n",
    "In discrete time, use\n",
    "\n",
    "$$\\langle \\xi(t_1) \\xi(t_2) \\rangle = \\frac{1}{\\# \\mathrm{ samples}} \\sum_{i, j} \\xi(i) \\xi(j)$$\n",
    "\n",
    "where the sum is taken over the i and j that obey $i-j = t_1-t_2$"
   ]
  },
  {
   "cell_type": "code",
   "execution_count": null,
   "metadata": {},
   "outputs": [],
   "source": [
    "N_data_points = 1000\n",
    "xi = np.random.normal(size=N_data_points)\n",
    "\n",
    "autocorrelation = np.zeros(2*N_data_points - 1)\n",
    "autocorrelation_count = np.zeros(2*N_data_points - 1)\n",
    "center_point = N_data_points - 1\n",
    "\n",
    "for i in range(N_data_points):\n",
    "    for j in range(N_data_points):\n",
    "        # Here, update autocorrelation and autocorrelation_count\n",
    "        \n",
    "autocorrelation /= autocorrelation_count"
   ]
  },
  {
   "cell_type": "code",
   "execution_count": null,
   "metadata": {},
   "outputs": [],
   "source": [
    "plt.figure()\n",
    "plt.plot(autocorrelation);\n"
   ]
  },
  {
   "cell_type": "code",
   "execution_count": null,
   "metadata": {},
   "outputs": [],
   "source": [
    "plt.figure()\n",
    "plt.plot(autocorrelation);\n",
    "x_axis = center_point + np.arange(len(xi))\n",
    "plt.plot(x_axis, tidynamics.acf(xi))\n",
    "plt.xlim(center_point - 100, center_point+100)\n",
    "plt.ylim(-0.1, 1.1)"
   ]
  },
  {
   "cell_type": "code",
   "execution_count": null,
   "metadata": {},
   "outputs": [],
   "source": []
  }
 ],
 "metadata": {
  "kernelspec": {
   "display_name": "Python 3",
   "language": "python",
   "name": "python3"
  },
  "language_info": {
   "codemirror_mode": {
    "name": "ipython",
    "version": 3
   },
   "file_extension": ".py",
   "mimetype": "text/x-python",
   "name": "python",
   "nbconvert_exporter": "python",
   "pygments_lexer": "ipython3",
   "version": "3.6.4"
  }
 },
 "nbformat": 4,
 "nbformat_minor": 2
}
