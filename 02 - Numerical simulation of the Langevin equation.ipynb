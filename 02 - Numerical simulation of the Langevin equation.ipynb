{
 "cells": [
  {
   "cell_type": "markdown",
   "metadata": {},
   "source": [
    "## Numerical simulation of the Langevin equation\n",
    "\n",
    "Pierre de Buyl  \n",
    "Instituut voor Theoretische Fysica, KU Leuven\n",
    "\n",
    "The code and notebooks in the repository `2018_nonequilibrium_simulations`\n",
    "constitute supplementary material for the lecture notes\n",
    "*Langevin simulations for nonequilibrium physics*.\n",
    "See the [README.md](README.md) file for more information.\n",
    "See the lecture notes (link posted soon, visit [my website](http://pdebuyl.be/)\n",
    "for updates.\n",
    "\n",
    "This notebook contains a Python implementation of the Euler-Maruyama and\n",
    "Stochastic Runge-Kutta algorithms and short examples of use.\n"
   ]
  },
  {
   "cell_type": "code",
   "execution_count": null,
   "metadata": {},
   "outputs": [],
   "source": [
    "# import libraries and set default figure parameters\n",
    "import numpy as np\n",
    "%matplotlib inline\n",
    "import matplotlib.pyplot as plt"
   ]
  },
  {
   "cell_type": "code",
   "execution_count": null,
   "metadata": {},
   "outputs": [],
   "source": [
    "plt.rcParams['figure.figsize'] = (12, 8)\n",
    "plt.rcParams['figure.subplot.top'] = 0.95\n",
    "plt.rcParams['figure.subplot.right'] = 0.95\n",
    "\n",
    "plt.rcParams['font.size'] = 16"
   ]
  },
  {
   "cell_type": "markdown",
   "metadata": {},
   "source": [
    "### Implementation of the algorithms\n",
    "\n",
    "The routines below take as input arguments:\n",
    "- x: a scalar or a vector\n",
    "- f: a Python function that returns the force on the particle\n",
    "- mu: the mobility of the particles\n",
    "- T: the temperature\n",
    "- dt: the timestep\n",
    "- n: the number of iterations to perform\n",
    "\n",
    "The routines return the value of x afer n steps."
   ]
  },
  {
   "cell_type": "code",
   "execution_count": null,
   "metadata": {},
   "outputs": [],
   "source": [
    "def euler(x, f, mu, T, dt, n):\n",
    "    x = np.array(x).copy()\n",
    "    shape = x.shape\n",
    "    step = np.sqrt(2*mu*T*dt)\n",
    "    for i in range(n):\n",
    "        g0 = np.dot(step, np.random.normal(size=shape))\n",
    "        f1 = f(x)\n",
    "        x = x + dt*np.dot(mu, f1) + g0\n",
    "    return x\n",
    "\n",
    "def srk(x, f, mu, T, dt, n):\n",
    "    x = np.array(x).copy()\n",
    "    shape = x.shape\n",
    "    step = np.sqrt(2*mu*T*dt)\n",
    "    for i in range(n):\n",
    "        g0 = np.dot(step, np.random.normal(size=shape))\n",
    "        f1 = f(x)\n",
    "        x1 = x + np.dot(mu, f1) * dt + g0\n",
    "        f2 = f(x1)\n",
    "        x = x + 0.5*dt*np.dot(mu, f1+f2) + g0\n",
    "    return x\n"
   ]
  },
  {
   "cell_type": "markdown",
   "metadata": {},
   "source": [
    "### Running a simulation\n",
    "\n",
    "The algorithms `euler` and `srk` take as input a value for x, a force term,\n",
    "the mobility of the particles, the temperature, the time step and the number\n",
    "of iterations.\n",
    "\n",
    "The algorithms return one point per call, so a typical simulation calls many times\n",
    "the algorithms in a loop, collecting data as needed."
   ]
  },
  {
   "cell_type": "code",
   "execution_count": null,
   "metadata": {},
   "outputs": [],
   "source": [
    "# force that returns 0, for Brownian motion\n",
    "def zero_force(x):\n",
    "    return 0*x"
   ]
  },
  {
   "cell_type": "code",
   "execution_count": null,
   "metadata": {},
   "outputs": [],
   "source": [
    "x = 0\n",
    "mu = 21\n",
    "T = 1/10\n",
    "dt = 1e-2\n",
    "nsteps = 50\n",
    "\n",
    "trajectory = []\n",
    "for i in range(1000):\n",
    "    x = euler(x, zero_force, mu, T, dt, nsteps)\n",
    "    trajectory.append(x)\n",
    "\n",
    "trajectory = np.array(trajectory)"
   ]
  },
  {
   "cell_type": "code",
   "execution_count": null,
   "metadata": {},
   "outputs": [],
   "source": [
    "plt.figure()\n",
    "\n",
    "plt.plot(trajectory)\n",
    "plt.xlabel('time')\n",
    "plt.ylabel('position')"
   ]
  },
  {
   "cell_type": "code",
   "execution_count": null,
   "metadata": {},
   "outputs": [],
   "source": [
    "mu = 1\n",
    "T = 1\n",
    "dt = 3e-2\n",
    "nsteps = 200\n",
    "npoints = 100000\n",
    "\n",
    "def quartic_force(x):\n",
    "    return -x**3\n",
    "\n",
    "x = 0\n",
    "x = euler(x, quartic_force, mu, T, dt, 100*nsteps)\n",
    "\n",
    "euler_trajectory = []\n",
    "for i in range(npoints):\n",
    "    x = euler(x, quartic_force, mu, T, dt, nsteps)\n",
    "    euler_trajectory.append(x)\n",
    "\n",
    "euler_trajectory = np.array(euler_trajectory)\n",
    "\n",
    "x = 0\n",
    "x = euler(x, quartic_force, mu, T, dt, 100*nsteps)\n",
    "\n",
    "srk_trajectory = []\n",
    "for i in range(npoints):\n",
    "    x = srk(x, quartic_force, mu, T, dt, nsteps)\n",
    "    srk_trajectory.append(x)\n",
    "\n",
    "srk_trajectory = np.array(srk_trajectory)"
   ]
  },
  {
   "cell_type": "code",
   "execution_count": null,
   "metadata": {},
   "outputs": [],
   "source": [
    "euler_count, bins, patches = plt.hist(euler_trajectory, bins=25, histtype='step', density=True)\n",
    "\n",
    "srk_count, _, patches = plt.hist(srk_trajectory, bins=bins, histtype='step', density=True)\n",
    "\n",
    "bins = (bins[1:]+bins[:-1])/2\n",
    "\n",
    "eq = np.exp(-bins**4/(4*T))\n",
    "eq /= (eq.sum()*(bins[1]-bins[0]))\n",
    "\n",
    "plt.plot(bins, eq);\n",
    "\n",
    "plt.figure()\n",
    "\n",
    "plt.plot(bins, euler_count-eq)\n",
    "plt.plot(bins, srk_count-eq)"
   ]
  },
  {
   "cell_type": "markdown",
   "metadata": {},
   "source": [
    "### Running many simulations\n",
    "\n",
    "The study of stochastic models requires typically the analysis of many simulations.\n",
    "Below, I provide an example of running the same simulation many times and of averaging\n",
    "the result.\n",
    "\n",
    "In the example, I compute via the histogram routine the probability distribution of a\n",
    "particle in a two-dimensional quadratic potential with spring constant 1/4."
   ]
  },
  {
   "cell_type": "code",
   "execution_count": null,
   "metadata": {},
   "outputs": [],
   "source": [
    "k = 1/4\n",
    "\n",
    "def harmonic_force(x):\n",
    "    return -k*x\n",
    "\n",
    "mu = 1\n",
    "T = 2\n",
    "dt = 1e-2\n",
    "n_steps = 50\n",
    "n_points = 20000\n",
    "n_trajectories = 5\n",
    "\n",
    "all_trajectories = []\n",
    "for t in range(n_trajectories):\n",
    "    x = np.array([0, 0])\n",
    "\n",
    "    x = srk(x, harmonic_force, mu, T, dt, 100*n_steps)\n",
    "\n",
    "    trajectory = []\n",
    "    for i in range(n_points):\n",
    "        x = srk(x, harmonic_force, mu, T, dt, n_steps)\n",
    "        trajectory.append(x)\n",
    "\n",
    "    all_trajectories.append(np.array(trajectory))\n",
    "\n",
    "all_trajectories = np.array(all_trajectories)"
   ]
  },
  {
   "cell_type": "code",
   "execution_count": null,
   "metadata": {},
   "outputs": [],
   "source": [
    "count, x_edges, y_edges = np.histogram2d(all_trajectories[:,:,0].flatten(), all_trajectories[:,:,1].flatten(), bins=10, normed=True)"
   ]
  },
  {
   "cell_type": "code",
   "execution_count": null,
   "metadata": {},
   "outputs": [],
   "source": [
    "plt.contour((x_edges[1:]+x_edges[:-1])/2, (y_edges[1:]+y_edges[:-1])/2, count, [5e-4, 1e-3, 3e-3], colors='k')\n",
    "\n",
    "X, Y = np.meshgrid(x_edges, y_edges)\n",
    "\n",
    "Z = np.exp(-k*(X**2+Y**2)/(2*T))/(2*np.pi*T/k)\n",
    "\n",
    "plt.contour(X, Y, Z, [1e-3, 2e-3, 3e-3], colors='r')"
   ]
  },
  {
   "cell_type": "code",
   "execution_count": null,
   "metadata": {},
   "outputs": [],
   "source": [
    "energy = k*(all_trajectories[:,:,0]**2 + all_trajectories[:,:,1]**2)/2\n",
    "energy = energy.flatten()\n",
    "\n",
    "count, bins, _ = plt.hist(energy, density=True, bins=32, histtype='step')\n",
    "\n",
    "plt.plot(bins, np.exp(-bins/T)/T);"
   ]
  },
  {
   "cell_type": "code",
   "execution_count": null,
   "metadata": {},
   "outputs": [],
   "source": [
    "%load_ext cython"
   ]
  },
  {
   "cell_type": "code",
   "execution_count": null,
   "metadata": {},
   "outputs": [],
   "source": [
    "import algorithms"
   ]
  },
  {
   "cell_type": "code",
   "execution_count": null,
   "metadata": {},
   "outputs": [],
   "source": [
    "%%cython\n",
    "\n",
    "cimport algorithms\n",
    "from libc.math cimport cos\n",
    "\n",
    "cdef class cy_quartic(algorithms.cyfunc_nd):\n",
    "    cpdef void force(self, double[::1] x, double[::1] f):\n",
    "        cdef int i\n",
    "        for i in range(x.shape[0]):\n",
    "            f[i] = -x[i]**3\n"
   ]
  },
  {
   "cell_type": "code",
   "execution_count": null,
   "metadata": {},
   "outputs": [],
   "source": [
    "mu = 1\n",
    "T = 1\n",
    "dt = 3e-2\n",
    "nsteps = 200\n",
    "npoints = 400000\n",
    "\n",
    "def quartic_force(x):\n",
    "    return -x**3\n",
    "\n",
    "x = 0\n",
    "x = euler(x, quartic_force, mu, T, dt, 100*nsteps)\n",
    "\n",
    "euler_trajectory = algorithms.integrate_euler(np.array([x]), np.array([1.]), T, dt, npoints, nsteps, f=cy_quartic())\n",
    "\n",
    "x = 0\n",
    "x = srk(x, quartic_force, mu, T, dt, 100*nsteps)\n",
    "srk_trajectory = algorithms.integrate_srk(np.array([x]), np.array([1.]), T, dt, npoints, nsteps, f=cy_quartic())\n"
   ]
  },
  {
   "cell_type": "code",
   "execution_count": null,
   "metadata": {},
   "outputs": [],
   "source": [
    "plt.figure()\n",
    "euler_count, bins, patches = plt.hist(euler_trajectory, bins=25, histtype='step', density=True, label='euler')\n",
    "\n",
    "srk_count, _, patches = plt.hist(srk_trajectory, bins=bins, histtype='step', density=True, label='srk')\n",
    "\n",
    "bins = (bins[1:]+bins[:-1])/2\n",
    "\n",
    "eq = np.exp(-bins**4/(4*T))\n",
    "eq /= (eq.sum()*(bins[1]-bins[0]))\n",
    "\n",
    "plt.plot(bins, eq, label='eq.');\n",
    "plt.legend()\n",
    "\n",
    "plt.figure()\n",
    "\n",
    "plt.plot(bins, euler_count-eq, label='euler')\n",
    "plt.plot(bins, srk_count-eq, label='srk')\n",
    "plt.legend();"
   ]
  },
  {
   "cell_type": "code",
   "execution_count": null,
   "metadata": {},
   "outputs": [],
   "source": []
  }
 ],
 "metadata": {
  "kernelspec": {
   "display_name": "Python 3",
   "language": "python",
   "name": "python3"
  },
  "language_info": {
   "codemirror_mode": {
    "name": "ipython",
    "version": 3
   },
   "file_extension": ".py",
   "mimetype": "text/x-python",
   "name": "python",
   "nbconvert_exporter": "python",
   "pygments_lexer": "ipython3",
   "version": "3.6.4"
  }
 },
 "nbformat": 4,
 "nbformat_minor": 2
}
