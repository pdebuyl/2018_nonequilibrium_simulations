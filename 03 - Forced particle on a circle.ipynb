{
 "cells": [
  {
   "cell_type": "markdown",
   "metadata": {},
   "source": [
    "## Forced particle on a circle\n",
    "\n",
    "Pierre de Buyl  \n",
    "Instituut voor Theoretische Fysica, KU Leuven\n",
    "\n",
    "The code and notebooks in the repository `2018_nonequilibrium_simulations`\n",
    "constitute supplementary material for the lecture notes\n",
    "*Langevin simulations for nonequilibrium physics*.\n",
    "See the [README.md](README.md) file for more information.\n",
    "See the lecture notes (link posted soon, visit [my website](http://pdebuyl.be/)\n",
    "for updates.\n",
    "\n",
    "This notebook contains the example of a colloidal particle in a toroidal trap."
   ]
  },
  {
   "cell_type": "code",
   "execution_count": null,
   "metadata": {},
   "outputs": [],
   "source": [
    "# import libraries and set default figure parameters\n",
    "import numpy as np\n",
    "%matplotlib notebook\n",
    "import matplotlib.pyplot as plt\n",
    "import algorithms\n",
    "import math"
   ]
  },
  {
   "cell_type": "code",
   "execution_count": null,
   "metadata": {},
   "outputs": [],
   "source": [
    "plt.rcParams['figure.figsize'] = (5,3)\n",
    "plt.rcParams['figure.subplot.top'] = 0.95\n",
    "plt.rcParams['figure.subplot.right'] = 0.95\n",
    "\n",
    "plt.rcParams['font.size'] = 16"
   ]
  },
  {
   "cell_type": "code",
   "execution_count": null,
   "metadata": {},
   "outputs": [],
   "source": [
    "%load_ext cython"
   ]
  },
  {
   "cell_type": "code",
   "execution_count": null,
   "metadata": {},
   "outputs": [],
   "source": [
    "\n",
    "def U(theta, A):\n",
    "    return A*np.sin(theta)\n",
    "\n",
    "def f(theta, A):\n",
    "    return -A*np.cos(theta)\n",
    "\n",
    "def fixed_A_force(A):\n",
    "    def force(theta):\n",
    "        return f(theta, A)\n",
    "    return force\n"
   ]
  },
  {
   "cell_type": "code",
   "execution_count": null,
   "metadata": {},
   "outputs": [],
   "source": [
    "%%cython\n",
    "\n",
    "cimport algorithms\n",
    "from libc.math cimport cos\n",
    "\n",
    "cdef class cy_A_force(algorithms.cyfunc_nd):\n",
    "    cdef double A\n",
    "    def __init__(self, A):\n",
    "        self.A = A\n",
    "    cpdef void force(self, double[::1] x, double[::1] f):\n",
    "        cdef int i\n",
    "        for i in range(x.shape[0]):\n",
    "            f[i] = -self.A*cos(x[i])\n",
    "\n",
    "cdef class cy_A_drive(algorithms.cyfunc_nd):\n",
    "    cdef double A\n",
    "    cdef double F\n",
    "    def __init__(self, A, F):\n",
    "        self.A = A\n",
    "        self.F = F\n",
    "    cpdef void force(self, double[::1] x, double[::1] f):\n",
    "        cdef int i\n",
    "        for i in range(x.shape[0]):\n",
    "            f[i] = -self.A*cos(x[i]) + self.F\n"
   ]
  },
  {
   "cell_type": "code",
   "execution_count": null,
   "metadata": {},
   "outputs": [],
   "source": [
    "mu = np.array([1], dtype=float)\n",
    "T = 2\n",
    "dt = 1e-2\n",
    "nsteps = 50\n",
    "npoints = 50000\n",
    "\n",
    "A = 0.87\n",
    "F = 0.4\n",
    "\n",
    "theta = np.array([0], dtype=float)\n",
    "\n",
    "theta = algorithms.integrate_srk(theta, mu, T, dt, npoints, nsteps, cy_A_drive(A, F))\n"
   ]
  },
  {
   "cell_type": "code",
   "execution_count": null,
   "metadata": {},
   "outputs": [],
   "source": []
  },
  {
   "cell_type": "code",
   "execution_count": null,
   "metadata": {},
   "outputs": [],
   "source": [
    "periodic_theta = np.mod(theta, 2*np.pi)\n",
    "count, bins, patches = plt.hist(periodic_theta, density=True, bins=32, histtype='step');\n",
    "\n",
    "thr = np.linspace(0, 2*np.pi, 100)\n",
    "p = np.exp(-U(thr, A)/T)\n",
    "p /= np.sum(p)*(thr[1]-thr[0])\n",
    "plt.plot(thr, p)\n",
    "\n",
    "#plt.plot(thr, U(thr, A))"
   ]
  },
  {
   "cell_type": "code",
   "execution_count": null,
   "metadata": {},
   "outputs": [],
   "source": [
    "plt.plot(theta)"
   ]
  },
  {
   "cell_type": "code",
   "execution_count": null,
   "metadata": {},
   "outputs": [],
   "source": [
    "mid_bins = (bins[1:]+bins[:-1])/2\n",
    "np.sum(U(mid_bins, A)*count)*(bins[1]-bins[0])"
   ]
  },
  {
   "cell_type": "code",
   "execution_count": null,
   "metadata": {},
   "outputs": [],
   "source": [
    "np.mean(U(theta, A))"
   ]
  },
  {
   "cell_type": "code",
   "execution_count": null,
   "metadata": {},
   "outputs": [],
   "source": [
    "mu = np.array([1], dtype=float)\n",
    "T = 1\n",
    "dt = 1e-4\n",
    "nsteps = 10\n",
    "npoints = 400000\n",
    "\n",
    "delta_A = 0.1\n",
    "xi_data = []\n",
    "for i in range(40):\n",
    "\n",
    "    A = 1\n",
    "    F = 0.5\n",
    "\n",
    "    theta = np.array([0], dtype=float)\n",
    "\n",
    "    theta = algorithms.integrate_euler(theta, mu, T, dt, npoints, nsteps, cy_A_drive(A, F))\n",
    "    A_plus = 1 + delta_A\n",
    "    \n",
    "    theta_perturbed = algorithms.integrate_srk(theta[-1], mu, T, dt, 400, nsteps, cy_A_drive(A_plus, F))\n",
    "    U0_perturbed = U(theta_perturbed[0], A_plus)\n",
    "    print(U0_perturbed)\n",
    "    if np.abs(U0_perturbed) > 0.95*A:\n",
    "        print('drop')\n",
    "        continue\n",
    "        \n",
    "    theta_unperturbed = algorithms.integrate_srk(theta[-1], mu, T, dt, npoints, nsteps, cy_A_drive(A, F))\n",
    "    \n",
    "    starting_point = np.argwhere(np.abs(U(theta_unperturbed, A) - U0_perturbed) < 1e-2)[0][0]\n",
    "    if starting_point < npoints - 400: \n",
    "        xi_data.append(U(theta_perturbed, A_plus)-U(theta_unperturbed[starting_point:starting_point+400], A))\n",
    "\n",
    "xi_data = np.array(xi_data)/-delta_A"
   ]
  },
  {
   "cell_type": "code",
   "execution_count": null,
   "metadata": {},
   "outputs": [],
   "source": [
    "plt.figure()\n",
    "time = np.arange(xi_data.shape[1])*dt*nsteps\n",
    "plt.plot(time, xi_data.mean(axis=0))"
   ]
  },
  {
   "cell_type": "code",
   "execution_count": null,
   "metadata": {},
   "outputs": [],
   "source": [
    "C = (U(theta_unperturbed, A)**2).mean() - tidynamics.acf(U(theta_unperturbed, A))"
   ]
  },
  {
   "cell_type": "code",
   "execution_count": null,
   "metadata": {},
   "outputs": [],
   "source": [
    "\n",
    "K_term = U(theta_unperturbed, A) + (F-A**2*np.cos(theta_unperturbed))*A*np.cos(theta_unperturbed)\n",
    "\n",
    "K_cor = tidynamics.core.correlation_1d(K_term, U(theta_unperturbed, A))[len(theta_unperturbed)-1:]\n",
    "\n",
    "K = -scipy.integrate.cumtrapz(K_cor)*nsteps*dt"
   ]
  },
  {
   "cell_type": "code",
   "execution_count": null,
   "metadata": {},
   "outputs": [],
   "source": [
    "import scipy.integrate\n"
   ]
  },
  {
   "cell_type": "code",
   "execution_count": null,
   "metadata": {},
   "outputs": [],
   "source": [
    "plt.figure()\n",
    "plt.plot(K[:100])\n",
    "plt.plot(C[:100])\n",
    "plt.plot((K[:100]+C[:100])/2)\n",
    "plt.plot(xi_data.mean(axis=0)[:100])"
   ]
  },
  {
   "cell_type": "code",
   "execution_count": null,
   "metadata": {},
   "outputs": [],
   "source": []
  }
 ],
 "metadata": {
  "kernelspec": {
   "display_name": "Python 3",
   "language": "python",
   "name": "python3"
  },
  "language_info": {
   "codemirror_mode": {
    "name": "ipython",
    "version": 3
   },
   "file_extension": ".py",
   "mimetype": "text/x-python",
   "name": "python",
   "nbconvert_exporter": "python",
   "pygments_lexer": "ipython3",
   "version": "3.6.4"
  }
 },
 "nbformat": 4,
 "nbformat_minor": 2
}
