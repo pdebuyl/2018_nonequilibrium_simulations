{
 "cells": [
  {
   "cell_type": "markdown",
   "metadata": {},
   "source": [
    "## Forced particle on a circle\n",
    "\n",
    "Pierre de Buyl  \n",
    "Instituut voor Theoretische Fysica, KU Leuven\n",
    "\n",
    "The code and notebooks in the repository `2018_nonequilibrium_simulations`\n",
    "constitute supplementary material for the lecture notes\n",
    "*Langevin simulations for nonequilibrium physics*.\n",
    "See the [README.md](README.md) file for more information.\n",
    "See the lecture notes (link posted soon, visit [my website](http://pdebuyl.be/)\n",
    "for updates.\n",
    "\n",
    "This notebook contains the example of a colloidal particle in a toroidal trap."
   ]
  },
  {
   "cell_type": "code",
   "execution_count": null,
   "metadata": {},
   "outputs": [],
   "source": [
    "# import libraries and set default figure parameters\n",
    "import numpy as np\n",
    "%matplotlib inline\n",
    "import matplotlib.pyplot as plt\n",
    "import algorithms\n",
    "import math\n",
    "\n",
    "plt.rcParams['figure.figsize'] = (12, 8)\n",
    "plt.rcParams['figure.subplot.top'] = 0.95\n",
    "plt.rcParams['figure.subplot.right'] = 0.95\n",
    "\n",
    "plt.rcParams['font.size'] = 16"
   ]
  },
  {
   "cell_type": "code",
   "execution_count": null,
   "metadata": {},
   "outputs": [],
   "source": [
    "%load_ext cython"
   ]
  },
  {
   "cell_type": "code",
   "execution_count": null,
   "metadata": {},
   "outputs": [],
   "source": [
    "\n",
    "def U(theta, A):\n",
    "    return A*np.sin(theta)\n",
    "\n",
    "def f(theta, A):\n",
    "    return -A*np.cos(theta)\n",
    "\n",
    "def fixed_A_force(A):\n",
    "    def force(theta):\n",
    "        return f(theta, A)\n",
    "    return force\n",
    "\n",
    "def euler(x, f, mu, T, dt, n):\n",
    "    x = np.array(x).copy()\n",
    "    shape = x.shape\n",
    "    step = np.sqrt(2*mu*T*dt)\n",
    "    for i in range(n):\n",
    "        g0 = np.dot(step, np.random.normal(size=shape))\n",
    "        f1 = f(x)\n",
    "        x = x + dt*np.dot(mu, f1) + g0\n",
    "    return x\n"
   ]
  },
  {
   "cell_type": "code",
   "execution_count": null,
   "metadata": {},
   "outputs": [],
   "source": [
    "%%cython\n",
    "\n",
    "cimport algorithms\n",
    "from libc.math cimport cos\n",
    "\n",
    "cdef class cy_A_force(algorithms.cyfunc_nd):\n",
    "    cdef double A\n",
    "    def __init__(self, A):\n",
    "        self.A = A\n",
    "    cpdef void force(self, double[::1] x, double[::1] f):\n",
    "        cdef int i\n",
    "        for i in range(x.shape[0]):\n",
    "            f[i] = -self.A*cos(x[i])\n",
    "\n",
    "cdef class cy_A_drive(algorithms.cyfunc_nd):\n",
    "    cdef double A\n",
    "    cdef double F\n",
    "    def __init__(self, A, F):\n",
    "        self.A = A\n",
    "        self.F = F\n",
    "    cpdef void force(self, double[::1] x, double[::1] f):\n",
    "        cdef int i\n",
    "        for i in range(x.shape[0]):\n",
    "            f[i] = -self.A*cos(x[i]) + self.F\n"
   ]
  },
  {
   "cell_type": "code",
   "execution_count": null,
   "metadata": {},
   "outputs": [],
   "source": [
    "mu = np.array([1], dtype=float)\n",
    "T = 1.0\n",
    "dt = 1e-2\n",
    "nsteps = 50\n",
    "npoints = 100000\n",
    "\n",
    "theta = np.array([0], dtype=float)\n",
    "\n",
    "theta = algorithms.integrate_euler(theta, mu, T, dt, npoints, nsteps, cy_A_force(1.0))\n"
   ]
  },
  {
   "cell_type": "code",
   "execution_count": null,
   "metadata": {},
   "outputs": [],
   "source": []
  },
  {
   "cell_type": "code",
   "execution_count": null,
   "metadata": {},
   "outputs": [],
   "source": []
  },
  {
   "cell_type": "code",
   "execution_count": null,
   "metadata": {},
   "outputs": [],
   "source": [
    "plt.plot(theta)"
   ]
  },
  {
   "cell_type": "code",
   "execution_count": null,
   "metadata": {},
   "outputs": [],
   "source": [
    "periodic_theta = np.mod(theta, 2*np.pi)\n",
    "plt.hist(periodic_theta, density=True, bins=32, histtype='step');\n",
    "\n",
    "thr = np.linspace(0, 2*np.pi, 100)\n",
    "p = np.exp(-U(thr, 1))\n",
    "p /= np.sum(p)*(thr[1]-thr[0])\n",
    "plt.plot(thr, p)\n"
   ]
  },
  {
   "cell_type": "code",
   "execution_count": null,
   "metadata": {},
   "outputs": [],
   "source": [
    "periodic_theta = np.mod"
   ]
  },
  {
   "cell_type": "code",
   "execution_count": null,
   "metadata": {},
   "outputs": [],
   "source": []
  }
 ],
 "metadata": {
  "kernelspec": {
   "display_name": "Python 3",
   "language": "python",
   "name": "python3"
  },
  "language_info": {
   "codemirror_mode": {
    "name": "ipython",
    "version": 3
   },
   "file_extension": ".py",
   "mimetype": "text/x-python",
   "name": "python",
   "nbconvert_exporter": "python",
   "pygments_lexer": "ipython3",
   "version": "3.6.4"
  }
 },
 "nbformat": 4,
 "nbformat_minor": 2
}
