{
 "cells": [
  {
   "cell_type": "markdown",
   "metadata": {},
   "source": [
    "## Forced particle on a circle\n",
    "\n",
    "Pierre de Buyl  \n",
    "Instituut voor Theoretische Fysica, KU Leuven\n",
    "\n",
    "The code and notebooks in the repository `2018_nonequilibrium_simulations`\n",
    "constitute supplementary material for the lecture notes\n",
    "*Langevin simulations for nonequilibrium physics*.\n",
    "See the [README.md](README.md) file for more information.\n",
    "See the lecture notes (link posted soon, visit [my website](http://pdebuyl.be/)\n",
    "for updates.\n",
    "\n",
    "This notebook contains the example of a colloidal particle in a toroidal trap."
   ]
  },
  {
   "cell_type": "code",
   "execution_count": null,
   "metadata": {},
   "outputs": [],
   "source": [
    "# import libraries and set default figure parameters\n",
    "import numpy as np\n",
    "%matplotlib notebook\n",
    "import matplotlib.pyplot as plt\n",
    "import algorithms\n",
    "import math"
   ]
  },
  {
   "cell_type": "code",
   "execution_count": null,
   "metadata": {},
   "outputs": [],
   "source": [
    "plt.rcParams['figure.figsize'] = (8, 6)\n",
    "plt.rcParams['figure.subplot.top'] = 0.95\n",
    "plt.rcParams['figure.subplot.right'] = 0.95\n",
    "\n",
    "plt.rcParams['font.size'] = 16"
   ]
  },
  {
   "cell_type": "code",
   "execution_count": null,
   "metadata": {},
   "outputs": [],
   "source": [
    "%load_ext cython"
   ]
  },
  {
   "cell_type": "code",
   "execution_count": null,
   "metadata": {},
   "outputs": [],
   "source": [
    "\n",
    "def U(theta, A):\n",
    "    return A*np.sin(theta)\n",
    "\n",
    "def f(theta, A):\n",
    "    return -A*np.cos(theta)\n",
    "\n",
    "def fixed_A_force(A):\n",
    "    def force(theta):\n",
    "        return f(theta, A)\n",
    "    return force\n"
   ]
  },
  {
   "cell_type": "code",
   "execution_count": null,
   "metadata": {},
   "outputs": [],
   "source": [
    "%%cython\n",
    "\n",
    "cimport algorithms\n",
    "from libc.math cimport cos\n",
    "\n",
    "cdef class cy_A_force(algorithms.cyfunc_nd):\n",
    "    cdef double A\n",
    "    def __init__(self, A):\n",
    "        self.A = A\n",
    "    cpdef void force(self, double[::1] x, double[::1] f):\n",
    "        cdef int i\n",
    "        for i in range(x.shape[0]):\n",
    "            f[i] = -self.A*cos(x[i])\n",
    "\n",
    "cdef class cy_A_drive(algorithms.cyfunc_nd):\n",
    "    cdef double A\n",
    "    cdef double F\n",
    "    def __init__(self, A, F):\n",
    "        self.A = A\n",
    "        self.F = F\n",
    "    cpdef void force(self, double[::1] x, double[::1] f):\n",
    "        cdef int i\n",
    "        for i in range(x.shape[0]):\n",
    "            f[i] = -self.A*cos(x[i]) + self.F\n"
   ]
  },
  {
   "cell_type": "code",
   "execution_count": null,
   "metadata": {},
   "outputs": [],
   "source": [
    "mu = np.array([1], dtype=float)\n",
    "T = 2\n",
    "dt = 1e-2\n",
    "nsteps = 50\n",
    "npoints = 50000\n",
    "\n",
    "A = 1\n",
    "F = 0.5\n",
    "\n",
    "theta = np.array([0], dtype=float)\n",
    "\n",
    "theta = algorithms.integrate_euler(theta, mu, T, dt, npoints, nsteps, cy_A_drive(A, F))\n"
   ]
  },
  {
   "cell_type": "code",
   "execution_count": null,
   "metadata": {},
   "outputs": [],
   "source": []
  },
  {
   "cell_type": "code",
   "execution_count": null,
   "metadata": {},
   "outputs": [],
   "source": [
    "periodic_theta = np.mod(theta, 2*np.pi)\n",
    "count, bins, patches = plt.hist(periodic_theta, density=True, bins=32, histtype='step');\n",
    "\n",
    "thr = np.linspace(0, 2*np.pi, 100)\n",
    "p = np.exp(-U(thr, A)/T)\n",
    "p /= np.sum(p)*(thr[1]-thr[0])\n",
    "plt.plot(thr, p)\n",
    "\n",
    "#plt.plot(thr, U(thr, A))"
   ]
  },
  {
   "cell_type": "code",
   "execution_count": null,
   "metadata": {},
   "outputs": [],
   "source": [
    "mid_bins = (bins[1:]+bins[:-1])/2\n",
    "np.sum(U(mid_bins, A)*count)*(bins[1]-bins[0])"
   ]
  },
  {
   "cell_type": "code",
   "execution_count": null,
   "metadata": {},
   "outputs": [],
   "source": [
    "np.mean(U(theta, A))"
   ]
  },
  {
   "cell_type": "code",
   "execution_count": null,
   "metadata": {},
   "outputs": [],
   "source": [
    "mu = np.array([1], dtype=float)\n",
    "T = 1\n",
    "dt = 1e-2\n",
    "nsteps = 10\n",
    "npoints = 50000\n",
    "\n",
    "xi_data = []\n",
    "for i in range(2):\n",
    "\n",
    "    A = 1\n",
    "    F = 0.5\n",
    "\n",
    "    theta = np.array([0], dtype=float)\n",
    "\n",
    "    theta = algorithms.integrate_euler(theta, mu, T, dt, npoints, nsteps, cy_A_drive(A, F))\n",
    "\n",
    "    theta_unperturbed = algorithms.integrate_srk(theta[-1], mu, T, dt, npoints, nsteps, cy_A_drive(A, F))\n",
    "    A_plus = 1 + 0.1\n",
    "    theta_perturbed = algorithms.integrate_srk(theta[-1], mu, T, dt, npoints, nsteps, cy_A_drive(A, F))\n",
    "    xi_data.append(U(theta_perturbed, A_plus))\n",
    "\n",
    "xi_data = np.array(xi_data)"
   ]
  },
  {
   "cell_type": "code",
   "execution_count": null,
   "metadata": {},
   "outputs": [],
   "source": [
    "plt.figure()\n",
    "plt.plot(U(theta_unperturbed, A))\n",
    "plt.axvline(40)"
   ]
  },
  {
   "cell_type": "code",
   "execution_count": null,
   "metadata": {},
   "outputs": [],
   "source": [
    "cut_indices = np.argwhere(np.abs(U(theta_unperturbed, A) + 0.4) < 2e-3)[:,0]"
   ]
  },
  {
   "cell_type": "code",
   "execution_count": null,
   "metadata": {},
   "outputs": [],
   "source": [
    "cut_indices, len(cut_indices)"
   ]
  },
  {
   "cell_type": "code",
   "execution_count": null,
   "metadata": {},
   "outputs": [],
   "source": [
    "plt.figure()\n",
    "[plt.plot(U(theta_unperturbed[start_idx:], A)) for start_idx in cut_indices];\n",
    "\n",
    "plt.xlim(0, 100)"
   ]
  },
  {
   "cell_type": "code",
   "execution_count": null,
   "metadata": {},
   "outputs": [],
   "source": [
    "dev = np.mean([U(theta_unperturbed[start_idx:start_idx+100], A)\n",
    "               for start_idx in cut_indices\n",
    "               if start_idx < len(theta_unperturbed)-101], axis=0)"
   ]
  },
  {
   "cell_type": "code",
   "execution_count": null,
   "metadata": {},
   "outputs": [],
   "source": [
    "plt.figure()\n",
    "plt.plot(dev)"
   ]
  },
  {
   "cell_type": "code",
   "execution_count": null,
   "metadata": {},
   "outputs": [],
   "source": []
  }
 ],
 "metadata": {
  "kernelspec": {
   "display_name": "Python 3",
   "language": "python",
   "name": "python3"
  },
  "language_info": {
   "codemirror_mode": {
    "name": "ipython",
    "version": 3
   },
   "file_extension": ".py",
   "mimetype": "text/x-python",
   "name": "python",
   "nbconvert_exporter": "python",
   "pygments_lexer": "ipython3",
   "version": "3.6.4"
  }
 },
 "nbformat": 4,
 "nbformat_minor": 2
}
