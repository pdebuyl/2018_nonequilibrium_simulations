{
 "cells": [
  {
   "cell_type": "markdown",
   "metadata": {},
   "source": [
    "## Master equation\n",
    "\n",
    "\n",
    "Pierre de Buyl  \n",
    "Instituut voor Theoretische Fysica, KU Leuven\n",
    "\n",
    "The code and notebooks in the repository `2018_nonequilibrium_simulations`\n",
    "constitute supplementary material for the lecture notes\n",
    "*Langevin simulations for nonequilibrium physics*.\n",
    "See the [README.md](README.md) file for more information.\n",
    "See the lecture notes (link posted soon, visit [my website](http://pdebuyl.be/)\n",
    "for updates.\n",
    "\n",
    "This notebook contains the example of Master equation simulation."
   ]
  },
  {
   "cell_type": "code",
   "execution_count": null,
   "metadata": {},
   "outputs": [],
   "source": [
    "# import libraries and set default figure parameters\n",
    "import numpy as np\n",
    "%matplotlib inline\n",
    "import matplotlib.pyplot as plt\n",
    "import algorithms\n",
    "import tidynamics\n",
    "import scipy.integrate"
   ]
  },
  {
   "cell_type": "code",
   "execution_count": null,
   "metadata": {},
   "outputs": [],
   "source": [
    "plt.rcParams['figure.figsize'] = (12, 8)\n",
    "plt.rcParams['figure.subplot.top'] = 0.95\n",
    "plt.rcParams['figure.subplot.right'] = 0.95\n",
    "\n",
    "plt.rcParams['font.size'] = 16"
   ]
  },
  {
   "cell_type": "code",
   "execution_count": null,
   "metadata": {},
   "outputs": [],
   "source": [
    "# X <-> A\n",
    "\n",
    "# Variable is X, A fixed\n",
    "\n",
    "a = 50\n",
    "k1 = 3\n",
    "k2 = 4\n",
    "\n",
    "def t_plus(x):\n",
    "    return k2*a\n",
    "def t_minus(x):\n",
    "    return k1*x\n"
   ]
  },
  {
   "cell_type": "code",
   "execution_count": null,
   "metadata": {},
   "outputs": [],
   "source": [
    "# Fixed time step approximation\n",
    "\n",
    "x = 10\n",
    "dt = 0.001\n",
    "\n",
    "x_data = []\n",
    "for i in range(8000):\n",
    "    up = t_plus(x)\n",
    "    down = t_minus(x)\n",
    "    proba_something = (up+down)*dt\n",
    "    if np.random.random() < proba_something:\n",
    "        xi = np.random.random()*(up+down)\n",
    "        if xi < up:\n",
    "            x = x+1\n",
    "            # do up\n",
    "        else:\n",
    "            x = x-1\n",
    "    x_data.append(x)\n",
    "x_data = np.array(x_data)"
   ]
  },
  {
   "cell_type": "code",
   "execution_count": null,
   "metadata": {},
   "outputs": [],
   "source": [
    "time = np.arange(len(x_data))*dt\n",
    "\n",
    "plt.plot(time, x_data)\n",
    "plt.axhline(a*k2/k1)\n",
    "\n",
    "def rate_eq(x, t):\n",
    "    return k2*a-k1*x\n",
    "\n",
    "result = scipy.integrate.odeint(rate_eq, 10, time)\n",
    "\n",
    "plt.plot(time, result)\n",
    "\n"
   ]
  },
  {
   "cell_type": "code",
   "execution_count": null,
   "metadata": {},
   "outputs": [],
   "source": []
  },
  {
   "cell_type": "code",
   "execution_count": null,
   "metadata": {},
   "outputs": [],
   "source": [
    "# SSA\n",
    "\n",
    "x = 10\n",
    "\n",
    "ssa_data = []\n",
    "t = 0\n",
    "time_data = []\n",
    "for i in range(3000):\n",
    "    up = t_plus(x)\n",
    "    down = t_minus(x)\n",
    "    total_rate = up+down\n",
    "    r1 = np.random.random()\n",
    "    tau = -np.log(r1)/total_rate\n",
    "    r2 = np.random.random()\n",
    "    if r2*total_rate < up:\n",
    "        x = x+1\n",
    "    else:\n",
    "        x = x-1\n",
    "    ssa_data.append(x)\n",
    "    t = t+tau\n",
    "    time_data.append(t)\n",
    "ssa_data = np.array(ssa_data)\n",
    "time_data = np.array(time_data)"
   ]
  },
  {
   "cell_type": "code",
   "execution_count": null,
   "metadata": {},
   "outputs": [],
   "source": [
    "plt.plot(time, x_data)\n",
    "plt.plot(time_data, ssa_data)\n",
    "plt.axhline(a*k2/k1)\n",
    "\n",
    "def rate_eq(x, t):\n",
    "    return k2*a-k1*x\n",
    "\n",
    "result = scipy.integrate.odeint(rate_eq, 10, time_data)\n",
    "\n",
    "plt.plot(time_data, result)\n"
   ]
  },
  {
   "cell_type": "code",
   "execution_count": null,
   "metadata": {},
   "outputs": [],
   "source": []
  },
  {
   "cell_type": "code",
   "execution_count": null,
   "metadata": {},
   "outputs": [],
   "source": []
  }
 ],
 "metadata": {
  "kernelspec": {
   "display_name": "Python 3",
   "language": "python",
   "name": "python3"
  },
  "language_info": {
   "codemirror_mode": {
    "name": "ipython",
    "version": 3
   },
   "file_extension": ".py",
   "mimetype": "text/x-python",
   "name": "python",
   "nbconvert_exporter": "python",
   "pygments_lexer": "ipython3",
   "version": "3.6.4"
  }
 },
 "nbformat": 4,
 "nbformat_minor": 2
}
